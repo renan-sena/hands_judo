{
  "cells": [
    {
      "cell_type": "markdown",
      "metadata": {},
      "source": [
        "# Importing Libraries\n",
        "This cell imports the libraries needed for video processing, hand detection, and image manipulation."
      ]
    },
    {
      "cell_type": "code",
      "execution_count": null,
      "metadata": {},
      "outputs": [],
      "source": [
        "import cv2\n",
        "import mediapipe as mp\n",
        "import time\n",
        "import numpy as np\n",
        "from IPython.display import display\n",
        "from PIL import Image\n",
        "from colorama import Fore"
      ]
    },
    {
      "cell_type": "markdown",
      "metadata": {},
      "source": [
        "# MediaPipe Hand Detection Configuration\n",
        "This section sets up hand detection using the MediaPipe library with parameters adjusted for higher accuracy."
      ]
    },
    {
      "cell_type": "code",
      "execution_count": null,
      "metadata": {},
      "outputs": [],
      "source": [
        "mp_hands = mp.solutions.hands\n",
        "hands = mp_hands.Hands(static_image_mode=False, max_num_hands=2, min_detection_confidence=0.7, min_tracking_confidence=0.7)\n",
        "\n",
        "# Control variables\n",
        "blue_grip = False\n",
        "white_grip = False\n",
        "blue_start_time = 0\n",
        "white_start_time = 0\n",
        "blue_disappear_time = 0\n",
        "white_disappear_time = 0\n",
        "disappearance_tolerance = 2\n",
        "winner = None"
      ]
    },
    {
      "cell_type": "markdown",
      "metadata": {},
      "source": [
        "# Function to Check if the Grip Was Held for 7 Seconds\n",
        "This function checks if the grip was held for 7 seconds, returning `True` or `False`."
      ]
    },
    {
      "cell_type": "code",
      "execution_count": null,
      "metadata": {},
      "outputs": [],
      "source": [
        "def check_grip(start_time, current_time):\n",
        "    return (current_time - start_time) >= 7"
      ]
    },
    {
      "cell_type": "markdown",
      "metadata": {},
      "source": [
        "# Video Initialization\n",
        "This section configures the video path and starts the frame capture process."
      ]
    },
    {
      "cell_type": "code",
      "execution_count": null,
      "metadata": {},
      "outputs": [],
      "source": [
        "video_path = 'assets/videos/test_0.mp4'\n",
        "cap = cv2.VideoCapture(video_path)"
      ]
    },
    {
      "cell_type": "markdown",
      "metadata": {},
      "source": [
        "# Auxiliary Functions\n",
        "These functions assist in detecting the colors of the kimonos and drawing the status on the frame."
      ]
    },
    {
      "cell_type": "code",
      "execution_count": null,
      "metadata": {},
      "outputs": [],
      "source": [
        "def detect_kimono_color(frame_hsv):\n",
        "    blue_lower = np.array([100, 150, 50])\n",
        "    blue_upper = np.array([140, 255, 255])\n",
        "    white_lower = np.array([0, 0, 200])\n",
        "    white_upper = np.array([180, 30, 255])\n",
        "    mask_blue = cv2.inRange(frame_hsv, blue_lower, blue_upper)\n",
        "    mask_white = cv2.inRange(frame_hsv, white_lower, white_upper)\n",
        "    athlete_blue = cv2.countNonZero(mask_blue) > 1000\n",
        "    athlete_white = cv2.countNonZero(mask_white) > 1000\n",
        "    return athlete_blue, athlete_white"
      ]
    },
    {
      "cell_type": "markdown",
      "metadata": {},
      "source": [
        "# Function to Draw Status on the Frame\n",
        "This function draws the status of the grips on the frame, indicating whether the blue or white athlete's grip is active."
      ]
    },
    {
      "cell_type": "code",
      "execution_count": null,
      "metadata": {},
      "outputs": [],
      "source": [
        "def draw_status(frame, blue_grip, white_grip):\n",
        "    cv2.putText(frame, f'Blue Grip: {'Active' if blue_grip else 'Inactive'}', \n",
        "                (10, 50), cv2.FONT_HERSHEY_SIMPLEX, 1, (255, 0, 0), 2, cv2.LINE_AA)\n",
        "    cv2.putText(frame, f'White Grip: {'Active' if white_grip else 'Inactive'}', \n",
        "                (10, 100), cv2.FONT_HERSHEY_SIMPLEX, 1, (0, 0, 255), 2, cv2.LINE_AA)"
      ]
    },
    {
      "cell_type": "markdown",
      "metadata": {},
      "source": [
        "# Video Processing\n",
        "Main loop to process each video frame, detect the grip, and determine the winner."
      ]
    },
    {
      "cell_type": "code",
      "execution_count": null,
      "metadata": {},
      "outputs": [],
      "source": [
        "while cap.isOpened():\n", 
        "    ret, frame = cap.read()\n", 
        "    if not ret:\n", 
        "        print('End of video or error reading frame.')\n", 
        "        break\n", 
        "\n", 
        "    # Convert to RGB and HSV\n", 
        "    frame_rgb = cv2.cvtColor(frame, cv2.COLOR_BGR2RGB)\n", 
        "    frame_hsv = cv2.cvtColor(frame, cv2.COLOR_BGR2HSV)\n", 
        "\n", 
        "    # Detect kimono color\n", 
        "    athlete_blue, athlete_white = detect_kimono_color(frame_hsv)\n", 
        "\n", 
        "    # Process the frame for hand detection\n", 
        "    results = hands.process(frame_rgb)\n", 
        "\n", 
        "    # Get current time\n", 
        "    current_time = time.time()\n", 
        "\n", 
        "    # Check if hands are detected\n", 
        "    if results.multi_hand_landmarks:\n", 
        "        for hand_landmarks in results.multi_hand_landmarks:\n", 
        "            mp.solutions.drawing_utils.draw_landmarks(frame, hand_landmarks, mp_hands.HAND_CONNECTIONS)\n", 
        "\n", 
        "    # Check if the grip was held for 7 seconds\n", 
        "    if check_grip(blue_start_time, current_time) and winner is None:\n", 
        "        print(Fore.BLUE + 'Blue athlete won the grip!')\n", 
        "        winner = 'blue' # Mark that the blue athlete won\n", 
        "\n", 
        "    if check_grip(white_start_time, current_time) and winner is None:\n", 
        "        print(Fore.RED + 'White athlete won the grip!')\n", 
        "        winner = 'white' # Mark that the white athlete won\n", 
        "\n", 
        "    # Update status and display the frame in Jupyter\n", 
        "    draw_status(frame, athlete_blue, athlete_white)\n", 
        "\n", 
        "    # Show the frame\n", 
        "    display(Image.fromarray(frame)) # Display directly as BGR\n", 
        "\n", 
        "    # Adding a small delay for Jupyter to process the display\n", 
        "    time.sleep(0.05)\n", 
        "\n", 
        "cap.release()\n"
      ]
    }
  ],
  "metadata": {
    "kernelspec": {
      "display_name": "Python 3",
      "language": "python",
      "name": "python3"
    },
    "language_info": {
      "name": "python",
      "version": "3.9.7",
      "mimetype": "text/x-python",
      "file_extension": ".py",
      "pygments_lexer": "ipython3"
    }
  },
  "nbformat": 4,
  "nbformat_minor": 5
}
